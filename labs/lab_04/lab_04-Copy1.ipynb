{
 "cells": [
  {
   "cell_type": "markdown",
   "metadata": {},
   "source": [
    "# GA Data Science 18 (DAT18) - Lab4"
   ]
  },
  {
   "cell_type": "markdown",
   "metadata": {},
   "source": [
    "## Lab goals\n",
    "\n",
    "- Simple APIs with Python\n",
    "- Kimono Labs: an external tool for aquiring data"
   ]
  },
  {
   "cell_type": "code",
   "execution_count": 2,
   "metadata": {
    "collapsed": true
   },
   "outputs": [],
   "source": [
    "# Imports at the top\n",
    "import json\n",
    "import urllib\n",
    "import pandas as pd\n",
    "\n",
    "import requests\n",
    "import json\n"
   ]
  },
  {
   "cell_type": "markdown",
   "metadata": {},
   "source": [
    "## Using Python APIs"
   ]
  },
  {
   "cell_type": "markdown",
   "metadata": {},
   "source": [
    "### Either Use Sheetsu or an API you've found\n",
    "Sheetsu: Turning Google Docs into APIs/\n",
    "https://sheetsu.com/"
   ]
  },
  {
   "cell_type": "markdown",
   "metadata": {
    "collapsed": true
   },
   "source": [
    "### Using Sheetsu\n",
    "I've created a GoogleDoc with wine data\n",
    "\n",
    "https://docs.google.com/spreadsheets/d/1_U-DHIrBXN8A1e3NbyOIJRORge2udmmaa8qS9mKddWo/edit#gid=0 \n",
    "https://sheetsu.com/apis/79656330"
   ]
  },
  {
   "cell_type": "code",
   "execution_count": 3,
   "metadata": {
    "collapsed": true
   },
   "outputs": [],
   "source": [
    "# You can either post or get info from this API\n",
    "# using the /column/Name you can pull only specfic subsets of the data\n",
    "api_base_url = 'https://sheetsu.com/apis/79656330'\n",
    "api_column = '/column/Name'\n"
   ]
  },
  {
   "cell_type": "markdown",
   "metadata": {},
   "source": [
    "##### Reading Data from an API datafeed"
   ]
  },
  {
   "cell_type": "code",
   "execution_count": 6,
   "metadata": {
    "collapsed": false
   },
   "outputs": [
    {
     "data": {
      "text/plain": [
       "u'{\"status\":200,\"success\":true,\"result\":[{\"Color\":\"W\",\"Region\":\"Portugal\",\"Country\":\"Portugal\",\"Vintage\":\"2013\",\"Vinyard\":\"Vinho Verde\",\"Name\":\"\",\"Grape\":\"\",\"Consumed In\":\"2015\",\"Score\":\"4\",\"Price\":\"\"},{\"Color\":\"W\",\"Region\":\"France\",\"Country\":\"France\",\"Vintage\":\"2013\",\"Vinyard\":\"Peyruchet\",\"Name\":\"\",\"Grape\":\"\",\"Consumed In\":\"2015\",\"Score\":\"3\",\"Price\":\"17.8\"},{\"Color\":\"W\",\"Region\":\"Oregon\",\"Country\":\"Oregon\",\"Vintage\":\"2013\",\"Vinyard\":\"Abacela\",\"Name\":\"\",\"Grape\":\"\",\"Consumed In\":\"2015\",\"Score\":\"3\",\"Price\":\"20\"},{\"Color\":\"W\",\"Region\":\"Spain\",\"Country\":\"Spain\",\"Vintage\":\"2012\",\"Vinyard\":\"Ochoa\",\"Name\":\"\",\"Grape\":\"chardonay\",\"Consumed In\":\"2015\",\"Score\":\"2.5\",\"Price\":\"7\"},{\"Color\":\"R\",\"Region\":\"\",\"Country\":\"US\",\"Vintage\":\"2012\",\"Vinyard\":\"Heartland\",\"Name\":\"Spice Trader\",\"Grape\":\"chiraz, cab\",\"Consumed In\":\"2015\",\"Score\":\"3\",\"Price\":\"6\"},{\"Color\":\"R\",\"Region\":\"California\",\"Country\":\"US\",\"Vintage\":\"2012\",\"Vinyard\":\"Crow Canyon\",\"Name\":\"\",\"Grape\":\"cab\",\"Consumed In\":\"2015\",\"Score\":\"3.5\",\"Price\":\"13\"},{\"Color\":\"R\",\"Region\":\"Oregon\",\"Country\":\"US\",\"Vintage\":\"2013\",\"Vinyard\":\"Abacela\",\"Name\":\"#14\",\"Grape\":\"\",\"Consumed In\":\"2015\",\"Score\":\"2.5\",\"Price\":\"21\"},{\"Color\":\"R\",\"Region\":\"Bordeaux\",\"Country\":\"France\",\"Vintage\":\"2012\",\"Vinyard\":\"David Beaulieu\",\"Name\":\"\",\"Grape\":\"merlot, cab\",\"Consumed In\":\"2015\",\"Score\":\"3.5\",\"Price\":\"12\"},{\"Color\":\"R\",\"Region\":\"Medoc\",\"Country\":\"France\",\"Vintage\":\"2011\",\"Vinyard\":\"Chantemerle\",\"Name\":\"\",\"Grape\":\"merlot, cab\",\"Consumed In\":\"2015\",\"Score\":\"3.5\",\"Price\":\"11.99\"},{\"Color\":\"R\",\"Region\":\"Washington\",\"Country\":\"US\",\"Vintage\":\"2011\",\"Vinyard\":\"Hyatt\",\"Name\":\"\",\"Grape\":\"merlot\",\"Consumed In\":\"2015\",\"Score\":\"4\",\"Price\":\"13\"},{\"Color\":\"R\",\"Region\":\"Tuscany\",\"Country\":\"Italy\",\"Vintage\":\"2012\",\"Vinyard\":\"Rosso Dei Poggi\",\"Name\":\"Rosso Dei Poggi\",\"Grape\":\"sangiovese\",\"Consumed In\":\"2015\",\"Score\":\"3\",\"Price\":\"12\"},{\"Color\":\"R\",\"Region\":\"Tuscany\",\"Country\":\"\",\"Vintage\":\"2013\",\"Vinyard\":\"Orizzonti\",\"Name\":\"Montepulciano D\\'Abruzzo\",\"Grape\":\"\",\"Consumed In\":\"2015\",\"Score\":\"4.5\",\"Price\":\"22\"},{\"Color\":\"R\",\"Region\":\"Oregon\",\"Country\":\"US\",\"Vintage\":\"2010\",\"Vinyard\":\"Abacelo\",\"Name\":\"\",\"Grape\":\"chiraz\",\"Consumed In\":\"2015\",\"Score\":\"3.5\",\"Price\":\"7\"},{\"Color\":\"R\",\"Region\":\"Tuscany\",\"Country\":\"Italy\",\"Vintage\":\"2012\",\"Vinyard\":\"Ridolfi\",\"Name\":\"Rosso Di Montalcino\",\"Grape\":\"sangiovese\",\"Consumed In\":\"2015\",\"Score\":\"3.5\",\"Price\":\"15\"},{\"Color\":\"W\",\"Region\":\"Loire\",\"Country\":\"France\",\"Vintage\":\"2012\",\"Vinyard\":\"Celestin Blobdeau\",\"Name\":\"Sancerre Cuvee Des Moulins Bales\",\"Grape\":\"sauvignon blanc\",\"Consumed In\":\"2013\",\"Score\":\"3\",\"Price\":\"12\"},{\"Color\":\"R\",\"Region\":\"Nappa\",\"Country\":\"US\",\"Vintage\":\"2012\",\"Vinyard\":\"Belle Glos\",\"Name\":\"Meiomi\",\"Grape\":\"pinot noir\",\"Consumed In\":\"2013\",\"Score\":\"3\",\"Price\":\"13\"},{\"Color\":\"R\",\"Region\":\"France\",\"Country\":\"France\",\"Vintage\":\"2012\",\"Vinyard\":\"Puech-Haut\",\"Name\":\"Saint Drezery Prestige\",\"Grape\":\"\",\"Consumed In\":\"2013\",\"Score\":\"3\",\"Price\":\"13\"},{\"Color\":\"R\",\"Region\":\"France\",\"Country\":\"France\",\"Vintage\":\"2011\",\"Vinyard\":\"Puech-Haut\",\"Name\":\"Saint Drezery Prestige\",\"Grape\":\"\",\"Consumed In\":\"2013\",\"Score\":\"2\",\"Price\":\"14\"},{\"Color\":\"W\",\"Region\":\"Nappa\",\"Country\":\"US\",\"Vintage\":\"2012\",\"Vinyard\":\"Honig\",\"Name\":\"Sauvignon Blanc\",\"Grape\":\"sauvignon blanc\",\"Consumed In\":\"2014\",\"Score\":\"4\",\"Price\":\"14.5\"},{\"Color\":\"W\",\"Region\":\"Nappa\",\"Country\":\"US\",\"Vintage\":\"2012\",\"Vinyard\":\"Provenance\",\"Name\":\"Uppercut North Coast\",\"Grape\":\"sauvignon blanc\",\"Consumed In\":\"2014\",\"Score\":\"3\",\"Price\":\"11\"},{\"Color\":\"R\",\"Region\":\"Sicily\",\"Country\":\"Italy\",\"Vintage\":\"2011\",\"Vinyard\":\"Baglio Di Pianetto\",\"Name\":\"Nero d\\'Avola\",\"Grape\":\"\",\"Consumed In\":\"2014\",\"Score\":\"\",\"Price\":\"\"},{\"Color\":\"P\",\"Region\":\"Truro\",\"Country\":\"US\",\"Vintage\":\"2013\",\"Vinyard\":\"Truro Vineyards\",\"Name\":\"Cape Blush\",\"Grape\":\"\",\"Consumed In\":\"2014\",\"Score\":\"4\",\"Price\":\"10\"},{\"Color\":\"W\",\"Region\":\"Truro\",\"Country\":\"US\",\"Vintage\":\"2013\",\"Vinyard\":\"Truro Vineyards\",\"Name\":\"Pinot Grigio\",\"Grape\":\"pinot griogio\",\"Consumed In\":\"2014\",\"Score\":\"3\",\"Price\":\"10\"},{\"Color\":\"R\",\"Region\":\"Provence\",\"Country\":\"France\",\"Vintage\":\"2013\",\"Vinyard\":\"Chateau de la Clapiere\",\"Name\":\"Cru Classe\",\"Grape\":\"\",\"Consumed In\":\"2014\",\"Score\":\"3.5\",\"Price\":\"\"},{\"Color\":\"W\",\"Region\":\"Bordeaux\",\"Country\":\"France\",\"Vintage\":\"2013\",\"Vinyard\":\"Domaine du Claouset\",\"Name\":\"Domaine du Claouset\",\"Grape\":\"cabernet sauvignon\",\"Consumed In\":\"2015\",\"Score\":\"3\",\"Price\":\"\"},{\"Color\":\"W\",\"Region\":\"Napa\",\"Country\":\"\",\"Vintage\":\"2012\",\"Vinyard\":\"Two Angels\",\"Name\":\"Sauvignon Blanc\",\"Grape\":\"sauvignon blanc\",\"Consumed In\":\"2015\",\"Score\":\"3.5\",\"Price\":\"\"},{\"Color\":\"W\",\"Region\":\"Portugal\",\"Country\":\"Portugal\",\"Vintage\":\"2013\",\"Vinyard\":\"Mapreco\",\"Name\":\"Vinho Verde\",\"Grape\":\"\",\"Consumed In\":\"2015\",\"Score\":\"3.5\",\"Price\":\"\"},{\"Color\":\"W\",\"Region\":\"Burgundy\",\"Country\":\"France\",\"Vintage\":\"2012\",\"Vinyard\":\"Vaillons\",\"Name\":\"Vincent Dampt\",\"Grape\":\"Chablis, Vincent Dampt, Vaillons 1er (Burgundy, France) 2012 W/ Limestone taste\",\"Consumed In\":\"2015\",\"Score\":\"4\",\"Price\":\"35\"},{\"Color\":\"W\",\"Region\":\"Rias Baixas\",\"Country\":\"Spain\",\"Vintage\":\"2012\",\"Vinyard\":\"Granbazan\",\"Name\":\"Albarino\",\"Grape\":\"Albarino, Granbazan (Rias Baixas) 2012\",\"Consumed In\":\"2015\",\"Score\":\"4\",\"Price\":\"15\"},{\"Color\":\"R\",\"Region\":\"CA\",\"Country\":\"US\",\"Vintage\":\"1973\",\"Vinyard\":\"\",\"Name\":\"Dylans Wine\",\"Grape\":\"\",\"Consumed In\":\"2015\",\"Score\":\"10\",\"Price\":\"200\"}]}'"
      ]
     },
     "execution_count": 6,
     "metadata": {},
     "output_type": "execute_result"
    }
   ],
   "source": [
    "# What kind of data is this returning?\n",
    "api_response = requests.get(api_base_url)\n",
    "api_response.text"
   ]
  },
  {
   "cell_type": "code",
   "execution_count": 4,
   "metadata": {
    "collapsed": false
   },
   "outputs": [
    {
     "data": {
      "text/plain": [
       "u'{\"status\":200,\"success\":true,\"result\":[\"\",\"\",\"\",\"\",\"Spice Trader\",\"\",\"#14\",\"\",\"\",\"\",\"Rosso Dei Poggi\",\"Montepulciano D\\'Abruzzo\",\"\",\"Rosso Di Montalcino\",\"Sancerre Cuvee Des Moulins Bales\",\"Meiomi\",\"Saint Drezery Prestige\",\"Saint Drezery Prestige\",\"Sauvignon Blanc\",\"Uppercut North Coast\",\"Nero d\\'Avola\",\"Cape Blush\",\"Pinot Grigio\",\"Cru Classe\",\"Domaine du Claouset\",\"Sauvignon Blanc\",\"Vinho Verde\",\"Vincent Dampt\",\"Albarino\",\"Dylans Wine\"]}'"
      ]
     },
     "execution_count": 4,
     "metadata": {},
     "output_type": "execute_result"
    }
   ],
   "source": [
    "# What kind of data is this returning?\n",
    "api_column_url = api_base_url + api_column\n",
    "column_response = requests.get(api_column_url)\n",
    "column_response.text"
   ]
  },
  {
   "cell_type": "markdown",
   "metadata": {},
   "source": [
    "#### Reading JSON"
   ]
  },
  {
   "cell_type": "code",
   "execution_count": 7,
   "metadata": {
    "collapsed": false
   },
   "outputs": [],
   "source": [
    "reponse_dict = json.loads(api_response.text)"
   ]
  },
  {
   "cell_type": "markdown",
   "metadata": {},
   "source": [
    "#### What is the response of an API and what does it mean??"
   ]
  },
  {
   "cell_type": "code",
   "execution_count": 8,
   "metadata": {
    "collapsed": false
   },
   "outputs": [
    {
     "data": {
      "text/plain": [
       "{u'result': [{u'Color': u'W',\n",
       "   u'Consumed In': u'2015',\n",
       "   u'Country': u'Portugal',\n",
       "   u'Grape': u'',\n",
       "   u'Name': u'',\n",
       "   u'Price': u'',\n",
       "   u'Region': u'Portugal',\n",
       "   u'Score': u'4',\n",
       "   u'Vintage': u'2013',\n",
       "   u'Vinyard': u'Vinho Verde'},\n",
       "  {u'Color': u'W',\n",
       "   u'Consumed In': u'2015',\n",
       "   u'Country': u'France',\n",
       "   u'Grape': u'',\n",
       "   u'Name': u'',\n",
       "   u'Price': u'17.8',\n",
       "   u'Region': u'France',\n",
       "   u'Score': u'3',\n",
       "   u'Vintage': u'2013',\n",
       "   u'Vinyard': u'Peyruchet'},\n",
       "  {u'Color': u'W',\n",
       "   u'Consumed In': u'2015',\n",
       "   u'Country': u'Oregon',\n",
       "   u'Grape': u'',\n",
       "   u'Name': u'',\n",
       "   u'Price': u'20',\n",
       "   u'Region': u'Oregon',\n",
       "   u'Score': u'3',\n",
       "   u'Vintage': u'2013',\n",
       "   u'Vinyard': u'Abacela'},\n",
       "  {u'Color': u'W',\n",
       "   u'Consumed In': u'2015',\n",
       "   u'Country': u'Spain',\n",
       "   u'Grape': u'chardonay',\n",
       "   u'Name': u'',\n",
       "   u'Price': u'7',\n",
       "   u'Region': u'Spain',\n",
       "   u'Score': u'2.5',\n",
       "   u'Vintage': u'2012',\n",
       "   u'Vinyard': u'Ochoa'},\n",
       "  {u'Color': u'R',\n",
       "   u'Consumed In': u'2015',\n",
       "   u'Country': u'US',\n",
       "   u'Grape': u'chiraz, cab',\n",
       "   u'Name': u'Spice Trader',\n",
       "   u'Price': u'6',\n",
       "   u'Region': u'',\n",
       "   u'Score': u'3',\n",
       "   u'Vintage': u'2012',\n",
       "   u'Vinyard': u'Heartland'},\n",
       "  {u'Color': u'R',\n",
       "   u'Consumed In': u'2015',\n",
       "   u'Country': u'US',\n",
       "   u'Grape': u'cab',\n",
       "   u'Name': u'',\n",
       "   u'Price': u'13',\n",
       "   u'Region': u'California',\n",
       "   u'Score': u'3.5',\n",
       "   u'Vintage': u'2012',\n",
       "   u'Vinyard': u'Crow Canyon'},\n",
       "  {u'Color': u'R',\n",
       "   u'Consumed In': u'2015',\n",
       "   u'Country': u'US',\n",
       "   u'Grape': u'',\n",
       "   u'Name': u'#14',\n",
       "   u'Price': u'21',\n",
       "   u'Region': u'Oregon',\n",
       "   u'Score': u'2.5',\n",
       "   u'Vintage': u'2013',\n",
       "   u'Vinyard': u'Abacela'},\n",
       "  {u'Color': u'R',\n",
       "   u'Consumed In': u'2015',\n",
       "   u'Country': u'France',\n",
       "   u'Grape': u'merlot, cab',\n",
       "   u'Name': u'',\n",
       "   u'Price': u'12',\n",
       "   u'Region': u'Bordeaux',\n",
       "   u'Score': u'3.5',\n",
       "   u'Vintage': u'2012',\n",
       "   u'Vinyard': u'David Beaulieu'},\n",
       "  {u'Color': u'R',\n",
       "   u'Consumed In': u'2015',\n",
       "   u'Country': u'France',\n",
       "   u'Grape': u'merlot, cab',\n",
       "   u'Name': u'',\n",
       "   u'Price': u'11.99',\n",
       "   u'Region': u'Medoc',\n",
       "   u'Score': u'3.5',\n",
       "   u'Vintage': u'2011',\n",
       "   u'Vinyard': u'Chantemerle'},\n",
       "  {u'Color': u'R',\n",
       "   u'Consumed In': u'2015',\n",
       "   u'Country': u'US',\n",
       "   u'Grape': u'merlot',\n",
       "   u'Name': u'',\n",
       "   u'Price': u'13',\n",
       "   u'Region': u'Washington',\n",
       "   u'Score': u'4',\n",
       "   u'Vintage': u'2011',\n",
       "   u'Vinyard': u'Hyatt'},\n",
       "  {u'Color': u'R',\n",
       "   u'Consumed In': u'2015',\n",
       "   u'Country': u'Italy',\n",
       "   u'Grape': u'sangiovese',\n",
       "   u'Name': u'Rosso Dei Poggi',\n",
       "   u'Price': u'12',\n",
       "   u'Region': u'Tuscany',\n",
       "   u'Score': u'3',\n",
       "   u'Vintage': u'2012',\n",
       "   u'Vinyard': u'Rosso Dei Poggi'},\n",
       "  {u'Color': u'R',\n",
       "   u'Consumed In': u'2015',\n",
       "   u'Country': u'',\n",
       "   u'Grape': u'',\n",
       "   u'Name': u\"Montepulciano D'Abruzzo\",\n",
       "   u'Price': u'22',\n",
       "   u'Region': u'Tuscany',\n",
       "   u'Score': u'4.5',\n",
       "   u'Vintage': u'2013',\n",
       "   u'Vinyard': u'Orizzonti'},\n",
       "  {u'Color': u'R',\n",
       "   u'Consumed In': u'2015',\n",
       "   u'Country': u'US',\n",
       "   u'Grape': u'chiraz',\n",
       "   u'Name': u'',\n",
       "   u'Price': u'7',\n",
       "   u'Region': u'Oregon',\n",
       "   u'Score': u'3.5',\n",
       "   u'Vintage': u'2010',\n",
       "   u'Vinyard': u'Abacelo'},\n",
       "  {u'Color': u'R',\n",
       "   u'Consumed In': u'2015',\n",
       "   u'Country': u'Italy',\n",
       "   u'Grape': u'sangiovese',\n",
       "   u'Name': u'Rosso Di Montalcino',\n",
       "   u'Price': u'15',\n",
       "   u'Region': u'Tuscany',\n",
       "   u'Score': u'3.5',\n",
       "   u'Vintage': u'2012',\n",
       "   u'Vinyard': u'Ridolfi'},\n",
       "  {u'Color': u'W',\n",
       "   u'Consumed In': u'2013',\n",
       "   u'Country': u'France',\n",
       "   u'Grape': u'sauvignon blanc',\n",
       "   u'Name': u'Sancerre Cuvee Des Moulins Bales',\n",
       "   u'Price': u'12',\n",
       "   u'Region': u'Loire',\n",
       "   u'Score': u'3',\n",
       "   u'Vintage': u'2012',\n",
       "   u'Vinyard': u'Celestin Blobdeau'},\n",
       "  {u'Color': u'R',\n",
       "   u'Consumed In': u'2013',\n",
       "   u'Country': u'US',\n",
       "   u'Grape': u'pinot noir',\n",
       "   u'Name': u'Meiomi',\n",
       "   u'Price': u'13',\n",
       "   u'Region': u'Nappa',\n",
       "   u'Score': u'3',\n",
       "   u'Vintage': u'2012',\n",
       "   u'Vinyard': u'Belle Glos'},\n",
       "  {u'Color': u'R',\n",
       "   u'Consumed In': u'2013',\n",
       "   u'Country': u'France',\n",
       "   u'Grape': u'',\n",
       "   u'Name': u'Saint Drezery Prestige',\n",
       "   u'Price': u'13',\n",
       "   u'Region': u'France',\n",
       "   u'Score': u'3',\n",
       "   u'Vintage': u'2012',\n",
       "   u'Vinyard': u'Puech-Haut'},\n",
       "  {u'Color': u'R',\n",
       "   u'Consumed In': u'2013',\n",
       "   u'Country': u'France',\n",
       "   u'Grape': u'',\n",
       "   u'Name': u'Saint Drezery Prestige',\n",
       "   u'Price': u'14',\n",
       "   u'Region': u'France',\n",
       "   u'Score': u'2',\n",
       "   u'Vintage': u'2011',\n",
       "   u'Vinyard': u'Puech-Haut'},\n",
       "  {u'Color': u'W',\n",
       "   u'Consumed In': u'2014',\n",
       "   u'Country': u'US',\n",
       "   u'Grape': u'sauvignon blanc',\n",
       "   u'Name': u'Sauvignon Blanc',\n",
       "   u'Price': u'14.5',\n",
       "   u'Region': u'Nappa',\n",
       "   u'Score': u'4',\n",
       "   u'Vintage': u'2012',\n",
       "   u'Vinyard': u'Honig'},\n",
       "  {u'Color': u'W',\n",
       "   u'Consumed In': u'2014',\n",
       "   u'Country': u'US',\n",
       "   u'Grape': u'sauvignon blanc',\n",
       "   u'Name': u'Uppercut North Coast',\n",
       "   u'Price': u'11',\n",
       "   u'Region': u'Nappa',\n",
       "   u'Score': u'3',\n",
       "   u'Vintage': u'2012',\n",
       "   u'Vinyard': u'Provenance'},\n",
       "  {u'Color': u'R',\n",
       "   u'Consumed In': u'2014',\n",
       "   u'Country': u'Italy',\n",
       "   u'Grape': u'',\n",
       "   u'Name': u\"Nero d'Avola\",\n",
       "   u'Price': u'',\n",
       "   u'Region': u'Sicily',\n",
       "   u'Score': u'',\n",
       "   u'Vintage': u'2011',\n",
       "   u'Vinyard': u'Baglio Di Pianetto'},\n",
       "  {u'Color': u'P',\n",
       "   u'Consumed In': u'2014',\n",
       "   u'Country': u'US',\n",
       "   u'Grape': u'',\n",
       "   u'Name': u'Cape Blush',\n",
       "   u'Price': u'10',\n",
       "   u'Region': u'Truro',\n",
       "   u'Score': u'4',\n",
       "   u'Vintage': u'2013',\n",
       "   u'Vinyard': u'Truro Vineyards'},\n",
       "  {u'Color': u'W',\n",
       "   u'Consumed In': u'2014',\n",
       "   u'Country': u'US',\n",
       "   u'Grape': u'pinot griogio',\n",
       "   u'Name': u'Pinot Grigio',\n",
       "   u'Price': u'10',\n",
       "   u'Region': u'Truro',\n",
       "   u'Score': u'3',\n",
       "   u'Vintage': u'2013',\n",
       "   u'Vinyard': u'Truro Vineyards'},\n",
       "  {u'Color': u'R',\n",
       "   u'Consumed In': u'2014',\n",
       "   u'Country': u'France',\n",
       "   u'Grape': u'',\n",
       "   u'Name': u'Cru Classe',\n",
       "   u'Price': u'',\n",
       "   u'Region': u'Provence',\n",
       "   u'Score': u'3.5',\n",
       "   u'Vintage': u'2013',\n",
       "   u'Vinyard': u'Chateau de la Clapiere'},\n",
       "  {u'Color': u'W',\n",
       "   u'Consumed In': u'2015',\n",
       "   u'Country': u'France',\n",
       "   u'Grape': u'cabernet sauvignon',\n",
       "   u'Name': u'Domaine du Claouset',\n",
       "   u'Price': u'',\n",
       "   u'Region': u'Bordeaux',\n",
       "   u'Score': u'3',\n",
       "   u'Vintage': u'2013',\n",
       "   u'Vinyard': u'Domaine du Claouset'},\n",
       "  {u'Color': u'W',\n",
       "   u'Consumed In': u'2015',\n",
       "   u'Country': u'',\n",
       "   u'Grape': u'sauvignon blanc',\n",
       "   u'Name': u'Sauvignon Blanc',\n",
       "   u'Price': u'',\n",
       "   u'Region': u'Napa',\n",
       "   u'Score': u'3.5',\n",
       "   u'Vintage': u'2012',\n",
       "   u'Vinyard': u'Two Angels'},\n",
       "  {u'Color': u'W',\n",
       "   u'Consumed In': u'2015',\n",
       "   u'Country': u'Portugal',\n",
       "   u'Grape': u'',\n",
       "   u'Name': u'Vinho Verde',\n",
       "   u'Price': u'',\n",
       "   u'Region': u'Portugal',\n",
       "   u'Score': u'3.5',\n",
       "   u'Vintage': u'2013',\n",
       "   u'Vinyard': u'Mapreco'},\n",
       "  {u'Color': u'W',\n",
       "   u'Consumed In': u'2015',\n",
       "   u'Country': u'France',\n",
       "   u'Grape': u'Chablis, Vincent Dampt, Vaillons 1er (Burgundy, France) 2012 W/ Limestone taste',\n",
       "   u'Name': u'Vincent Dampt',\n",
       "   u'Price': u'35',\n",
       "   u'Region': u'Burgundy',\n",
       "   u'Score': u'4',\n",
       "   u'Vintage': u'2012',\n",
       "   u'Vinyard': u'Vaillons'},\n",
       "  {u'Color': u'W',\n",
       "   u'Consumed In': u'2015',\n",
       "   u'Country': u'Spain',\n",
       "   u'Grape': u'Albarino, Granbazan (Rias Baixas) 2012',\n",
       "   u'Name': u'Albarino',\n",
       "   u'Price': u'15',\n",
       "   u'Region': u'Rias Baixas',\n",
       "   u'Score': u'4',\n",
       "   u'Vintage': u'2012',\n",
       "   u'Vinyard': u'Granbazan'},\n",
       "  {u'Color': u'R',\n",
       "   u'Consumed In': u'2015',\n",
       "   u'Country': u'US',\n",
       "   u'Grape': u'',\n",
       "   u'Name': u'Dylans Wine',\n",
       "   u'Price': u'200',\n",
       "   u'Region': u'CA',\n",
       "   u'Score': u'10',\n",
       "   u'Vintage': u'1973',\n",
       "   u'Vinyard': u''}],\n",
       " u'status': 200,\n",
       " u'success': True}"
      ]
     },
     "execution_count": 8,
     "metadata": {},
     "output_type": "execute_result"
    }
   ],
   "source": [
    "# What data was returned?\n",
    "reponse_dict"
   ]
  },
  {
   "cell_type": "markdown",
   "metadata": {},
   "source": [
    "#### Lets read the data into a DataFrame!"
   ]
  },
  {
   "cell_type": "code",
   "execution_count": 13,
   "metadata": {
    "collapsed": false
   },
   "outputs": [
    {
     "data": {
      "text/html": [
       "<div>\n",
       "<table border=\"1\" class=\"dataframe\">\n",
       "  <thead>\n",
       "    <tr style=\"text-align: right;\">\n",
       "      <th></th>\n",
       "      <th>Color</th>\n",
       "      <th>Consumed In</th>\n",
       "      <th>Country</th>\n",
       "      <th>Grape</th>\n",
       "      <th>Name</th>\n",
       "      <th>Price</th>\n",
       "      <th>Region</th>\n",
       "      <th>Score</th>\n",
       "      <th>Vintage</th>\n",
       "      <th>Vinyard</th>\n",
       "    </tr>\n",
       "  </thead>\n",
       "  <tbody>\n",
       "    <tr>\n",
       "      <th>0</th>\n",
       "      <td>W</td>\n",
       "      <td>2015</td>\n",
       "      <td>Portugal</td>\n",
       "      <td></td>\n",
       "      <td></td>\n",
       "      <td></td>\n",
       "      <td>Portugal</td>\n",
       "      <td>4</td>\n",
       "      <td>2013</td>\n",
       "      <td>Vinho Verde</td>\n",
       "    </tr>\n",
       "    <tr>\n",
       "      <th>1</th>\n",
       "      <td>W</td>\n",
       "      <td>2015</td>\n",
       "      <td>France</td>\n",
       "      <td></td>\n",
       "      <td></td>\n",
       "      <td>17.8</td>\n",
       "      <td>France</td>\n",
       "      <td>3</td>\n",
       "      <td>2013</td>\n",
       "      <td>Peyruchet</td>\n",
       "    </tr>\n",
       "    <tr>\n",
       "      <th>2</th>\n",
       "      <td>W</td>\n",
       "      <td>2015</td>\n",
       "      <td>Oregon</td>\n",
       "      <td></td>\n",
       "      <td></td>\n",
       "      <td>20</td>\n",
       "      <td>Oregon</td>\n",
       "      <td>3</td>\n",
       "      <td>2013</td>\n",
       "      <td>Abacela</td>\n",
       "    </tr>\n",
       "    <tr>\n",
       "      <th>3</th>\n",
       "      <td>W</td>\n",
       "      <td>2015</td>\n",
       "      <td>Spain</td>\n",
       "      <td>chardonay</td>\n",
       "      <td></td>\n",
       "      <td>7</td>\n",
       "      <td>Spain</td>\n",
       "      <td>2.5</td>\n",
       "      <td>2012</td>\n",
       "      <td>Ochoa</td>\n",
       "    </tr>\n",
       "    <tr>\n",
       "      <th>4</th>\n",
       "      <td>R</td>\n",
       "      <td>2015</td>\n",
       "      <td>US</td>\n",
       "      <td>chiraz, cab</td>\n",
       "      <td>Spice Trader</td>\n",
       "      <td>6</td>\n",
       "      <td></td>\n",
       "      <td>3</td>\n",
       "      <td>2012</td>\n",
       "      <td>Heartland</td>\n",
       "    </tr>\n",
       "  </tbody>\n",
       "</table>\n",
       "</div>"
      ],
      "text/plain": [
       "  Color Consumed In   Country        Grape          Name Price    Region  \\\n",
       "0     W        2015  Portugal                                   Portugal   \n",
       "1     W        2015    France                             17.8    France   \n",
       "2     W        2015    Oregon                               20    Oregon   \n",
       "3     W        2015     Spain    chardonay                   7     Spain   \n",
       "4     R        2015        US  chiraz, cab  Spice Trader     6             \n",
       "\n",
       "  Score Vintage      Vinyard  \n",
       "0     4    2013  Vinho Verde  \n",
       "1     3    2013    Peyruchet  \n",
       "2     3    2013      Abacela  \n",
       "3   2.5    2012        Ochoa  \n",
       "4     3    2012    Heartland  "
      ]
     },
     "execution_count": 13,
     "metadata": {},
     "output_type": "execute_result"
    }
   ],
   "source": [
    "wine_df = pd.DataFrame(reponse_dict['result'])\n",
    "wine_df.head()"
   ]
  },
  {
   "cell_type": "markdown",
   "metadata": {},
   "source": [
    "#### Pandas has great functions. We could just do it this way\n",
    "\n",
    "This sometimes works, but the data may need adjusting"
   ]
  },
  {
   "cell_type": "code",
   "execution_count": 10,
   "metadata": {
    "collapsed": false
   },
   "outputs": [
    {
     "data": {
      "text/html": [
       "<div>\n",
       "<table border=\"1\" class=\"dataframe\">\n",
       "  <thead>\n",
       "    <tr style=\"text-align: right;\">\n",
       "      <th></th>\n",
       "      <th>result</th>\n",
       "      <th>status</th>\n",
       "      <th>success</th>\n",
       "    </tr>\n",
       "  </thead>\n",
       "  <tbody>\n",
       "    <tr>\n",
       "      <th>0</th>\n",
       "      <td>{u'Grape': u'', u'Name': u'', u'Color': u'W', ...</td>\n",
       "      <td>200</td>\n",
       "      <td>True</td>\n",
       "    </tr>\n",
       "    <tr>\n",
       "      <th>1</th>\n",
       "      <td>{u'Grape': u'', u'Name': u'', u'Color': u'W', ...</td>\n",
       "      <td>200</td>\n",
       "      <td>True</td>\n",
       "    </tr>\n",
       "  </tbody>\n",
       "</table>\n",
       "</div>"
      ],
      "text/plain": [
       "                                              result  status success\n",
       "0  {u'Grape': u'', u'Name': u'', u'Color': u'W', ...     200    True\n",
       "1  {u'Grape': u'', u'Name': u'', u'Color': u'W', ...     200    True"
      ]
     },
     "execution_count": 10,
     "metadata": {},
     "output_type": "execute_result"
    }
   ],
   "source": [
    "pd.read_json(api_response.text).head(2)"
   ]
  },
  {
   "cell_type": "code",
   "execution_count": 15,
   "metadata": {
    "collapsed": false
   },
   "outputs": [
    {
     "data": {
      "text/plain": [
       "'[{\"Color\":\"W\",\"Consumed In\":\"2015\",\"Country\":\"Portugal\",\"Grape\":\"\",\"Name\":\"\",\"Price\":\"\",\"Region\":\"Portugal\",\"Score\":\"4\",\"Vintage\":\"2013\",\"Vinyard\":\"Vinho Verde\"},{\"Color\":\"W\",\"Consumed In\":\"2015\",\"Country\":\"France\",\"Grape\":\"\",\"Name\":\"\",\"Price\":\"17.8\",\"Region\":\"France\",\"Score\":\"3\",\"Vintage\":\"2013\",\"Vinyard\":\"Peyruchet\"},{\"Color\":\"W\",\"Consumed In\":\"2015\",\"Country\":\"Oregon\",\"Grape\":\"\",\"Name\":\"\",\"Price\":\"20\",\"Region\":\"Oregon\",\"Score\":\"3\",\"Vintage\":\"2013\",\"Vinyard\":\"Abacela\"},{\"Color\":\"W\",\"Consumed In\":\"2015\",\"Country\":\"Spain\",\"Grape\":\"chardonay\",\"Name\":\"\",\"Price\":\"7\",\"Region\":\"Spain\",\"Score\":\"2.5\",\"Vintage\":\"2012\",\"Vinyard\":\"Ochoa\"},{\"Color\":\"R\",\"Consumed In\":\"2015\",\"Country\":\"US\",\"Grape\":\"chiraz, cab\",\"Name\":\"Spice Trader\",\"Price\":\"6\",\"Region\":\"\",\"Score\":\"3\",\"Vintage\":\"2012\",\"Vinyard\":\"Heartland\"},{\"Color\":\"R\",\"Consumed In\":\"2015\",\"Country\":\"US\",\"Grape\":\"cab\",\"Name\":\"\",\"Price\":\"13\",\"Region\":\"California\",\"Score\":\"3.5\",\"Vintage\":\"2012\",\"Vinyard\":\"Crow Canyon\"},{\"Color\":\"R\",\"Consumed In\":\"2015\",\"Country\":\"US\",\"Grape\":\"\",\"Name\":\"#14\",\"Price\":\"21\",\"Region\":\"Oregon\",\"Score\":\"2.5\",\"Vintage\":\"2013\",\"Vinyard\":\"Abacela\"},{\"Color\":\"R\",\"Consumed In\":\"2015\",\"Country\":\"France\",\"Grape\":\"merlot, cab\",\"Name\":\"\",\"Price\":\"12\",\"Region\":\"Bordeaux\",\"Score\":\"3.5\",\"Vintage\":\"2012\",\"Vinyard\":\"David Beaulieu\"},{\"Color\":\"R\",\"Consumed In\":\"2015\",\"Country\":\"France\",\"Grape\":\"merlot, cab\",\"Name\":\"\",\"Price\":\"11.99\",\"Region\":\"Medoc\",\"Score\":\"3.5\",\"Vintage\":\"2011\",\"Vinyard\":\"Chantemerle\"},{\"Color\":\"R\",\"Consumed In\":\"2015\",\"Country\":\"US\",\"Grape\":\"merlot\",\"Name\":\"\",\"Price\":\"13\",\"Region\":\"Washington\",\"Score\":\"4\",\"Vintage\":\"2011\",\"Vinyard\":\"Hyatt\"},{\"Color\":\"R\",\"Consumed In\":\"2015\",\"Country\":\"Italy\",\"Grape\":\"sangiovese\",\"Name\":\"Rosso Dei Poggi\",\"Price\":\"12\",\"Region\":\"Tuscany\",\"Score\":\"3\",\"Vintage\":\"2012\",\"Vinyard\":\"Rosso Dei Poggi\"},{\"Color\":\"R\",\"Consumed In\":\"2015\",\"Country\":\"\",\"Grape\":\"\",\"Name\":\"Montepulciano D\\'Abruzzo\",\"Price\":\"22\",\"Region\":\"Tuscany\",\"Score\":\"4.5\",\"Vintage\":\"2013\",\"Vinyard\":\"Orizzonti\"},{\"Color\":\"R\",\"Consumed In\":\"2015\",\"Country\":\"US\",\"Grape\":\"chiraz\",\"Name\":\"\",\"Price\":\"7\",\"Region\":\"Oregon\",\"Score\":\"3.5\",\"Vintage\":\"2010\",\"Vinyard\":\"Abacelo\"},{\"Color\":\"R\",\"Consumed In\":\"2015\",\"Country\":\"Italy\",\"Grape\":\"sangiovese\",\"Name\":\"Rosso Di Montalcino\",\"Price\":\"15\",\"Region\":\"Tuscany\",\"Score\":\"3.5\",\"Vintage\":\"2012\",\"Vinyard\":\"Ridolfi\"},{\"Color\":\"W\",\"Consumed In\":\"2013\",\"Country\":\"France\",\"Grape\":\"sauvignon blanc\",\"Name\":\"Sancerre Cuvee Des Moulins Bales\",\"Price\":\"12\",\"Region\":\"Loire\",\"Score\":\"3\",\"Vintage\":\"2012\",\"Vinyard\":\"Celestin Blobdeau\"},{\"Color\":\"R\",\"Consumed In\":\"2013\",\"Country\":\"US\",\"Grape\":\"pinot noir\",\"Name\":\"Meiomi\",\"Price\":\"13\",\"Region\":\"Nappa\",\"Score\":\"3\",\"Vintage\":\"2012\",\"Vinyard\":\"Belle Glos\"},{\"Color\":\"R\",\"Consumed In\":\"2013\",\"Country\":\"France\",\"Grape\":\"\",\"Name\":\"Saint Drezery Prestige\",\"Price\":\"13\",\"Region\":\"France\",\"Score\":\"3\",\"Vintage\":\"2012\",\"Vinyard\":\"Puech-Haut\"},{\"Color\":\"R\",\"Consumed In\":\"2013\",\"Country\":\"France\",\"Grape\":\"\",\"Name\":\"Saint Drezery Prestige\",\"Price\":\"14\",\"Region\":\"France\",\"Score\":\"2\",\"Vintage\":\"2011\",\"Vinyard\":\"Puech-Haut\"},{\"Color\":\"W\",\"Consumed In\":\"2014\",\"Country\":\"US\",\"Grape\":\"sauvignon blanc\",\"Name\":\"Sauvignon Blanc\",\"Price\":\"14.5\",\"Region\":\"Nappa\",\"Score\":\"4\",\"Vintage\":\"2012\",\"Vinyard\":\"Honig\"},{\"Color\":\"W\",\"Consumed In\":\"2014\",\"Country\":\"US\",\"Grape\":\"sauvignon blanc\",\"Name\":\"Uppercut North Coast\",\"Price\":\"11\",\"Region\":\"Nappa\",\"Score\":\"3\",\"Vintage\":\"2012\",\"Vinyard\":\"Provenance\"},{\"Color\":\"R\",\"Consumed In\":\"2014\",\"Country\":\"Italy\",\"Grape\":\"\",\"Name\":\"Nero d\\'Avola\",\"Price\":\"\",\"Region\":\"Sicily\",\"Score\":\"\",\"Vintage\":\"2011\",\"Vinyard\":\"Baglio Di Pianetto\"},{\"Color\":\"P\",\"Consumed In\":\"2014\",\"Country\":\"US\",\"Grape\":\"\",\"Name\":\"Cape Blush\",\"Price\":\"10\",\"Region\":\"Truro\",\"Score\":\"4\",\"Vintage\":\"2013\",\"Vinyard\":\"Truro Vineyards\"},{\"Color\":\"W\",\"Consumed In\":\"2014\",\"Country\":\"US\",\"Grape\":\"pinot griogio\",\"Name\":\"Pinot Grigio\",\"Price\":\"10\",\"Region\":\"Truro\",\"Score\":\"3\",\"Vintage\":\"2013\",\"Vinyard\":\"Truro Vineyards\"},{\"Color\":\"R\",\"Consumed In\":\"2014\",\"Country\":\"France\",\"Grape\":\"\",\"Name\":\"Cru Classe\",\"Price\":\"\",\"Region\":\"Provence\",\"Score\":\"3.5\",\"Vintage\":\"2013\",\"Vinyard\":\"Chateau de la Clapiere\"},{\"Color\":\"W\",\"Consumed In\":\"2015\",\"Country\":\"France\",\"Grape\":\"cabernet sauvignon\",\"Name\":\"Domaine du Claouset\",\"Price\":\"\",\"Region\":\"Bordeaux\",\"Score\":\"3\",\"Vintage\":\"2013\",\"Vinyard\":\"Domaine du Claouset\"},{\"Color\":\"W\",\"Consumed In\":\"2015\",\"Country\":\"\",\"Grape\":\"sauvignon blanc\",\"Name\":\"Sauvignon Blanc\",\"Price\":\"\",\"Region\":\"Napa\",\"Score\":\"3.5\",\"Vintage\":\"2012\",\"Vinyard\":\"Two Angels\"},{\"Color\":\"W\",\"Consumed In\":\"2015\",\"Country\":\"Portugal\",\"Grape\":\"\",\"Name\":\"Vinho Verde\",\"Price\":\"\",\"Region\":\"Portugal\",\"Score\":\"3.5\",\"Vintage\":\"2013\",\"Vinyard\":\"Mapreco\"},{\"Color\":\"W\",\"Consumed In\":\"2015\",\"Country\":\"France\",\"Grape\":\"Chablis, Vincent Dampt, Vaillons 1er (Burgundy, France) 2012 W\\\\/ Limestone taste\",\"Name\":\"Vincent Dampt\",\"Price\":\"35\",\"Region\":\"Burgundy\",\"Score\":\"4\",\"Vintage\":\"2012\",\"Vinyard\":\"Vaillons\"},{\"Color\":\"W\",\"Consumed In\":\"2015\",\"Country\":\"Spain\",\"Grape\":\"Albarino, Granbazan (Rias Baixas) 2012\",\"Name\":\"Albarino\",\"Price\":\"15\",\"Region\":\"Rias Baixas\",\"Score\":\"4\",\"Vintage\":\"2012\",\"Vinyard\":\"Granbazan\"},{\"Color\":\"R\",\"Consumed In\":\"2015\",\"Country\":\"US\",\"Grape\":\"\",\"Name\":\"Dylans Wine\",\"Price\":\"200\",\"Region\":\"CA\",\"Score\":\"10\",\"Vintage\":\"1973\",\"Vinyard\":\"\"}]'"
      ]
     },
     "execution_count": 15,
     "metadata": {},
     "output_type": "execute_result"
    }
   ],
   "source": [
    "wine_df = pd.DataFrame(list(pd.read_json(api_response.text).result.values))\n",
    "wine_df.head(2)\n",
    "wine_df.to_json(orient='records')"
   ]
  },
  {
   "cell_type": "markdown",
   "metadata": {},
   "source": [
    "#### Writing to an API using PUT\n",
    "You will rarely need to do this"
   ]
  },
  {
   "cell_type": "code",
   "execution_count": 14,
   "metadata": {
    "collapsed": false
   },
   "outputs": [
    {
     "data": {
      "text/plain": [
       "<Response [201]>"
      ]
     },
     "execution_count": 14,
     "metadata": {},
     "output_type": "execute_result"
    }
   ],
   "source": [
    "# Send data to an API\n",
    "post_data = {\n",
    "    'Grape' : ''\n",
    "    , 'Name' : 'Dylans Wine'\n",
    "    , 'Color' : 'R'\n",
    "    , 'Country' : 'US'\n",
    "    , 'Region' : 'CA'\n",
    "    , 'Vinyard' : ''\n",
    "    , 'Score' : '10'\n",
    "    , 'Consumed In' : '2015'\n",
    "    , 'Vintage' : '1973'\n",
    "    , 'Price' : '200'\n",
    "    }\n",
    "requests.post(api_base_url, data=post_data)\n"
   ]
  },
  {
   "cell_type": "markdown",
   "metadata": {},
   "source": [
    "### Exercise 1\n",
    "    - Either with your own google doc or a different API\n",
    "    - Extract some data using requests\n",
    "    - Pull the data into a DataFrame\n",
    "    - Search For missing data\n",
    "        - Is there any missing data you can clean?\n",
    "        - Is there any data you can just remove?\n",
    "    - Summarize the data \n",
    "        - Try using describe, min, max, mean, var\n",
    "        - What are the unique values and can you do anything with the text?\n",
    "            Hint: Try using pd.get_dummies\n",
    "    - Bonus: Create some visualizations form this data\n",
    "    - Bonus: Try using sheetsu to push new data to the google doc (requests.post)"
   ]
  },
  {
   "cell_type": "code",
   "execution_count": 33,
   "metadata": {
    "collapsed": false
   },
   "outputs": [
    {
     "data": {
      "text/plain": [
       "u'{\"timestamp\":1446786603,\"environment\":\"production\",\"level\":\"error\",\"language\":\"ruby\",\"framework\":\"Rails: 4.2.1\",\"server\":{\"host\":\"sheetsu\",\"root\":\"/home/deployer/releases/20151028214332\",\"pid\":1321},\"notifier\":{\"name\":\"rollbar-gem\",\"version\":\"2.2.1\"},\"body\":{\"trace\":{\"frames\":[{\"filename\":\"/home/deployer/shared/bundle/ruby/2.1.0/bin/unicorn\",\"lineno\":23,\"method\":\"\\\\u003cmain\\\\u003e\"},{\"filename\":\"/home/deployer/shared/bundle/ruby/2.1.0/bin/unicorn\",\"lineno\":23,\"method\":\"load\"},{\"filename\":\"/home/deployer/shared/bundle/ruby/2.1.0/gems/unicorn-4.9.0/bin/unicorn\",\"lineno\":126,\"method\":\"\\\\u003ctop (required)\\\\u003e\"},{\"filename\":\"/home/deployer/shared/bundle/ruby/2.1.0/gems/unicorn-4.9.0/lib/unicorn/http_server.rb\",\"lineno\":294,\"method\":\"join\"},{\"filename\":\"/home/deployer/shared/bundle/ruby/2.1.0/gems/unicorn-4.9.0/lib/unicorn/http_server.rb\",\"lineno\":540,\"method\":\"maintain_worker_count\"},{\"filename\":\"/home/deployer/shared/bundle/ruby/2.1.0/gems/unicorn-4.9.0/lib/unicorn/http_server.rb\",\"lineno\":529,\"method\":\"spawn_missing_workers\"},{\"filename\":\"/home/deployer/shared/bundle/ruby/2.1.0/gems/unicorn-4.9.0/lib/unicorn/http_server.rb\",\"lineno\":674,\"method\":\"worker_loop\"},{\"filename\":\"/home/deployer/shared/bundle/ruby/2.1.0/gems/unicorn-4.9.0/lib/unicorn/http_server.rb\",\"lineno\":580,\"method\":\"process_client\"},{\"filename\":\"/home/deployer/shared/bundle/ruby/2.1.0/gems/rack-1.6.4/lib/rack/content_length.rb\",\"lineno\":15,\"method\":\"call\"},{\"filename\":\"/home/deployer/shared/bundle/ruby/2.1.0/gems/rack-1.6.4/lib/rack/chunked.rb\",\"lineno\":54,\"method\":\"call\"},{\"filename\":\"/home/deployer/shared/bundle/ruby/2.1.0/gems/rack-1.6.4/lib/rack/commonlogger.rb\",\"lineno\":33,\"method\":\"call\"},{\"filename\":\"/home/deployer/shared/bundle/ruby/2.1.0/gems/rack-1.6.4/lib/rack/tempfile_reaper.rb\",\"lineno\":15,\"method\":\"call\"},{\"filename\":\"/home/deployer/shared/bundle/ruby/2.1.0/gems/railties-4.2.1/lib/rails/application.rb\",\"lineno\":164,\"method\":\"call\"},{\"filename\":\"/home/deployer/shared/bundle/ruby/2.1.0/gems/railties-4.2.1/lib/rails/engine.rb\",\"lineno\":518,\"method\":\"call\"},{\"filename\":\"/home/deployer/shared/bundle/ruby/2.1.0/gems/rack-cors-0.4.0/lib/rack/cors.rb\",\"lineno\":80,\"method\":\"call\"},{\"filename\":\"/home/deployer/shared/bundle/ruby/2.1.0/gems/rack-1.6.4/lib/rack/sendfile.rb\",\"lineno\":113,\"method\":\"call\"},{\"filename\":\"/home/deployer/shared/bundle/ruby/2.1.0/gems/activesupport-4.2.1/lib/active_support/cache/strategy/local_cache_middleware.rb\",\"lineno\":28,\"method\":\"call\"},{\"filename\":\"/home/deployer/shared/bundle/ruby/2.1.0/gems/rack-1.6.4/lib/rack/runtime.rb\",\"lineno\":18,\"method\":\"call\"},{\"filename\":\"/home/deployer/shared/bundle/ruby/2.1.0/gems/rack-1.6.4/lib/rack/methodoverride.rb\",\"lineno\":22,\"method\":\"call\"},{\"filename\":\"/home/deployer/shared/bundle/ruby/2.1.0/gems/actionpack-4.2.1/lib/action_dispatch/middleware/request_id.rb\",\"lineno\":21,\"method\":\"call\"},{\"filename\":\"/home/deployer/shared/bundle/ruby/2.1.0/gems/railties-4.2.1/lib/rails/rack/logger.rb\",\"lineno\":20,\"method\":\"call\"},{\"filename\":\"/home/deployer/shared/bundle/ruby/2.1.0/gems/activesupport-4.2.1/lib/active_support/tagged_logging.rb\",\"lineno\":68,\"method\":\"tagged\"},{\"filename\":\"/home/deployer/shared/bundle/ruby/2.1.0/gems/activesupport-4.2.1/lib/active_support/tagged_logging.rb\",\"lineno\":26,\"method\":\"tagged\"},{\"filename\":\"/home/deployer/shared/bundle/ruby/2.1.0/gems/activesupport-4.2.1/lib/active_support/tagged_logging.rb\",\"lineno\":68,\"method\":\"block in tagged\"},{\"filename\":\"/home/deployer/shared/bundle/ruby/2.1.0/gems/railties-4.2.1/lib/rails/rack/logger.rb\",\"lineno\":20,\"method\":\"block in call\"},{\"filename\":\"/home/deployer/shared/bundle/ruby/2.1.0/gems/railties-4.2.1/lib/rails/rack/logger.rb\",\"lineno\":38,\"method\":\"call_app\"},{\"filename\":\"/home/deployer/shared/bundle/ruby/2.1.0/gems/actionpack-4.2.1/lib/action_dispatch/middleware/show_exceptions.rb\",\"lineno\":30,\"method\":\"call\"},{\"filename\":\"/home/deployer/shared/bundle/ruby/2.1.0/gems/rollbar-2.2.1/lib/rollbar/middleware/rails/show_exceptions.rb\",\"lineno\":22,\"method\":\"call_with_rollbar\"},{\"filename\":\"/home/deployer/shared/bundle/ruby/2.1.0/gems/actionpack-4.2.1/lib/action_dispatch/middleware/debug_exceptions.rb\",\"lineno\":17,\"method\":\"call\"},{\"filename\":\"/home/deployer/shared/bundle/ruby/2.1.0/gems/rollbar-2.2.1/lib/rollbar/middleware/rails/rollbar.rb\",\"lineno\":22,\"method\":\"call\"},{\"filename\":\"/home/deployer/shared/bundle/ruby/2.1.0/gems/rollbar-2.2.1/lib/rollbar.rb\",\"lineno\":837,\"method\":\"scoped\"},{\"filename\":\"/home/deployer/shared/bundle/ruby/2.1.0/gems/rollbar-2.2.1/lib/rollbar/middleware/rails/rollbar.rb\",\"lineno\":24,\"method\":\"block in call\"},{\"filename\":\"/home/deployer/shared/bundle/ruby/2.1.0/gems/actionpack-4.2.1/lib/action_dispatch/middleware/remote_ip.rb\",\"lineno\":78,\"method\":\"call\"},{\"filename\":\"/home/deployer/shared/bundle/ruby/2.1.0/gems/actionpack-4.2.1/lib/action_dispatch/middleware/callbacks.rb\",\"lineno\":27,\"method\":\"call\"},{\"filename\":\"/home/deployer/shared/bundle/ruby/2.1.0/gems/activesupport-4.2.1/lib/active_support/callbacks.rb\",\"lineno\":81,\"method\":\"run_callbacks\"},{\"filename\":\"/home/deployer/shared/bundle/ruby/2.1.0/gems/activesupport-4.2.1/lib/active_support/callbacks.rb\",\"lineno\":776,\"method\":\"_run_call_callbacks\"},{\"filename\":\"/home/deployer/shared/bundle/ruby/2.1.0/gems/activesupport-4.2.1/lib/active_support/callbacks.rb\",\"lineno\":88,\"method\":\"_run_callbacks\"},{\"filename\":\"/home/deployer/shared/bundle/ruby/2.1.0/gems/activesupport-4.2.1/lib/active_support/callbacks.rb\",\"lineno\":88,\"method\":\"call\"},{\"filename\":\"/home/deployer/shared/bundle/ruby/2.1.0/gems/actionpack-4.2.1/lib/action_dispatch/middleware/callbacks.rb\",\"lineno\":29,\"method\":\"block in call\"},{\"filename\":\"/home/deployer/shared/bundle/ruby/2.1.0/gems/activerecord-4.2.1/lib/active_record/connection_adapters/abstract/connection_pool.rb\",\"lineno\":649,\"method\":\"call\"},{\"filename\":\"/home/deployer/shared/bundle/ruby/2.1.0/gems/activerecord-4.2.1/lib/active_record/query_cache.rb\",\"lineno\":36,\"method\":\"call\"},{\"filename\":\"/home/deployer/shared/bundle/ruby/2.1.0/gems/actionpack-4.2.1/lib/action_dispatch/middleware/cookies.rb\",\"lineno\":560,\"method\":\"call\"},{\"filename\":\"/home/deployer/shared/bundle/ruby/2.1.0/gems/rack-1.6.4/lib/rack/session/abstract/id.rb\",\"lineno\":220,\"method\":\"call\"},{\"filename\":\"/home/deployer/shared/bundle/ruby/2.1.0/gems/rack-1.6.4/lib/rack/session/abstract/id.rb\",\"lineno\":225,\"method\":\"context\"},{\"filename\":\"/home/deployer/shared/bundle/ruby/2.1.0/gems/actionpack-4.2.1/lib/action_dispatch/middleware/flash.rb\",\"lineno\":260,\"method\":\"call\"},{\"filename\":\"/home/deployer/shared/bundle/ruby/2.1.0/gems/actionpack-4.2.1/lib/action_dispatch/middleware/params_parser.rb\",\"lineno\":27,\"method\":\"call\"},{\"filename\":\"/home/deployer/shared/bundle/ruby/2.1.0/gems/rack-1.6.4/lib/rack/head.rb\",\"lineno\":13,\"method\":\"call\"},{\"filename\":\"/home/deployer/shared/bundle/ruby/2.1.0/gems/rack-1.6.4/lib/rack/conditionalget.rb\",\"lineno\":25,\"method\":\"call\"},{\"filename\":\"/home/deployer/shared/bundle/ruby/2.1.0/gems/rack-1.6.4/lib/rack/etag.rb\",\"lineno\":24,\"method\":\"call\"},{\"filename\":\"/home/deployer/shared/bundle/ruby/2.1.0/gems/warden-1.2.3/lib/warden/manager.rb\",\"lineno\":34,\"method\":\"call\"},{\"filename\":\"/home/deployer/shared/bundle/ruby/2.1.0/gems/warden-1.2.3/lib/warden/manager.rb\",\"lineno\":34,\"method\":\"catch\"},{\"filename\":\"/home/deployer/shared/bundle/ruby/2.1.0/gems/warden-1.2.3/lib/warden/manager.rb\",\"lineno\":35,\"method\":\"block in call\"},{\"filename\":\"/home/deployer/shared/bundle/ruby/2.1.0/gems/rack-defense-0.2.2/lib/rack/defense.rb\",\"lineno\":103,\"method\":\"call\"},{\"filename\":\"/home/deployer/shared/bundle/ruby/2.1.0/gems/omniauth-1.2.2/lib/omniauth/strategy.rb\",\"lineno\":164,\"method\":\"call\"},{\"filename\":\"/home/deployer/shared/bundle/ruby/2.1.0/gems/omniauth-1.2.2/lib/omniauth/strategy.rb\",\"lineno\":186,\"method\":\"call!\"},{\"filename\":\"/home/deployer/shared/bundle/ruby/2.1.0/gems/actionpack-4.2.1/lib/action_dispatch/routing/route_set.rb\",\"lineno\":819,\"method\":\"call\"},{\"filename\":\"/home/deployer/shared/bundle/ruby/2.1.0/gems/actionpack-4.2.1/lib/action_dispatch/journey/router.rb\",\"lineno\":30,\"method\":\"serve\"},{\"filename\":\"/home/deployer/shared/bundle/ruby/2.1.0/gems/actionpack-4.2.1/lib/action_dispatch/journey/router.rb\",\"lineno\":30,\"method\":\"each\"},{\"filename\":\"/home/deployer/shared/bundle/ruby/2.1.0/gems/actionpack-4.2.1/lib/action_dispatch/journey/router.rb\",\"lineno\":43,\"method\":\"block in serve\"},{\"filename\":\"/home/deployer/shared/bundle/ruby/2.1.0/gems/actionpack-4.2.1/lib/action_dispatch/routing/mapper.rb\",\"lineno\":51,\"method\":\"serve\"},{\"filename\":\"/home/deployer/shared/bundle/ruby/2.1.0/gems/grape-0.13.0/lib/grape/api.rb\",\"lineno\":39,\"method\":\"call\"},{\"filename\":\"/home/deployer/shared/bundle/ruby/2.1.0/gems/grape-0.13.0/lib/grape/api.rb\",\"lineno\":44,\"method\":\"call!\"},{\"filename\":\"/home/deployer/shared/bundle/ruby/2.1.0/gems/grape-0.13.0/lib/grape/api.rb\",\"lineno\":114,\"method\":\"call\"},{\"filename\":\"/home/deployer/shared/bundle/ruby/2.1.0/gems/rack-mount-0.8.3/lib/rack/mount/route_set.rb\",\"lineno\":141,\"method\":\"call\"},{\"filename\":\"/home/deployer/shared/bundle/ruby/2.1.0/gems/rack-mount-0.8.3/lib/rack/mount/code_generation.rb\",\"lineno\":95,\"method\":\"recognize\"},{\"filename\":\"/home/deployer/shared/bundle/ruby/2.1.0/gems/rack-mount-0.8.3/lib/rack/mount/code_generation.rb\",\"lineno\":103,\"method\":\"optimized_each\"},{\"filename\":\"/home/deployer/shared/bundle/ruby/2.1.0/gems/rack-mount-0.8.3/lib/rack/mount/code_generation.rb\",\"lineno\":96,\"method\":\"block in recognize\"},{\"filename\":\"/home/deployer/shared/bundle/ruby/2.1.0/gems/rack-mount-0.8.3/lib/rack/mount/route_set.rb\",\"lineno\":152,\"method\":\"block in call\"},{\"filename\":\"/home/deployer/shared/bundle/ruby/2.1.0/gems/grape-0.13.0/lib/grape/endpoint.rb\",\"lineno\":190,\"method\":\"call\"},{\"filename\":\"/home/deployer/shared/bundle/ruby/2.1.0/gems/grape-0.13.0/lib/grape/endpoint.rb\",\"lineno\":202,\"method\":\"call!\"},{\"filename\":\"/home/deployer/shared/bundle/ruby/2.1.0/gems/rollbar-2.2.1/lib/rollbar/middleware/rack/builder.rb\",\"lineno\":14,\"method\":\"call_with_rollbar\"},{\"filename\":\"/home/deployer/shared/bundle/ruby/2.1.0/gems/rollbar-2.2.1/lib/rollbar.rb\",\"lineno\":837,\"method\":\"scoped\"},{\"filename\":\"/home/deployer/shared/bundle/ruby/2.1.0/gems/rollbar-2.2.1/lib/rollbar/middleware/rack/builder.rb\",\"lineno\":16,\"method\":\"block in call_with_rollbar\"},{\"filename\":\"/home/deployer/shared/bundle/ruby/2.1.0/gems/rack-1.6.4/lib/rack/builder.rb\",\"lineno\":153,\"method\":\"call\"},{\"filename\":\"/home/deployer/shared/bundle/ruby/2.1.0/gems/rack-1.6.4/lib/rack/head.rb\",\"lineno\":13,\"method\":\"call\"},{\"filename\":\"/home/deployer/shared/bundle/ruby/2.1.0/gems/grape-0.13.0/lib/grape/middleware/base.rb\",\"lineno\":18,\"method\":\"call\"},{\"filename\":\"/home/deployer/shared/bundle/ruby/2.1.0/gems/grape-0.13.0/lib/grape/middleware/error.rb\",\"lineno\":26,\"method\":\"call!\"},{\"filename\":\"/home/deployer/shared/bundle/ruby/2.1.0/gems/grape-0.13.0/lib/grape/middleware/error.rb\",\"lineno\":26,\"method\":\"catch\"},{\"filename\":\"/home/deployer/shared/bundle/ruby/2.1.0/gems/grape-0.13.0/lib/grape/middleware/error.rb\",\"lineno\":27,\"method\":\"block in call!\"},{\"filename\":\"/home/deployer/shared/bundle/ruby/2.1.0/gems/grape-0.13.0/lib/grape/middleware/base.rb\",\"lineno\":18,\"method\":\"call\"},{\"filename\":\"/home/deployer/shared/bundle/ruby/2.1.0/gems/grape-0.13.0/lib/grape/middleware/base.rb\",\"lineno\":24,\"method\":\"call!\"},{\"filename\":\"/home/deployer/shared/bundle/ruby/2.1.0/gems/grape-0.13.0/lib/grape/middleware/base.rb\",\"lineno\":24,\"method\":\"call\"},{\"filename\":\"/home/deployer/shared/bundle/ruby/2.1.0/gems/grape-0.13.0/lib/grape/endpoint.rb\",\"lineno\":201,\"method\":\"block in call!\"},{\"filename\":\"/home/deployer/shared/bundle/ruby/2.1.0/gems/grape-0.13.0/lib/grape/endpoint.rb\",\"lineno\":219,\"method\":\"run\"},{\"filename\":\"/home/deployer/shared/bundle/ruby/2.1.0/gems/activesupport-4.2.1/lib/active_support/notifications.rb\",\"lineno\":166,\"method\":\"instrument\"},{\"filename\":\"/home/deployer/shared/bundle/ruby/2.1.0/gems/grape-0.13.0/lib/grape/endpoint.rb\",\"lineno\":254,\"method\":\"block in run\"},{\"filename\":\"/home/deployer/shared/bundle/ruby/2.1.0/gems/grape-0.13.0/lib/grape/endpoint.rb\",\"lineno\":254,\"method\":\"call\"},{\"filename\":\"/home/deployer/shared/bundle/ruby/2.1.0/gems/grape-0.13.0/lib/grape/endpoint.rb\",\"lineno\":50,\"method\":\"block in generate_api_method\"},{\"filename\":\"/home/deployer/shared/bundle/ruby/2.1.0/gems/activesupport-4.2.1/lib/active_support/notifications.rb\",\"lineno\":166,\"method\":\"instrument\"},{\"filename\":\"/home/deployer/shared/bundle/ruby/2.1.0/gems/grape-0.13.0/lib/grape/endpoint.rb\",\"lineno\":51,\"method\":\"block (2 levels) in generate_api_method\"},{\"filename\":\"/home/deployer/shared/bundle/ruby/2.1.0/gems/grape-0.13.0/lib/grape/endpoint.rb\",\"lineno\":51,\"method\":\"call\"},{\"filename\":\"/home/deployer/releases/20151028214332/app/controllers/api/base.rb\",\"lineno\":24,\"method\":\"block in \\\\u003cclass:Base\\\\u003e\"},{\"filename\":\"/home/deployer/releases/20151028214332/app/services/drive/sheet.rb\",\"lineno\":11,\"method\":\"get\"},{\"filename\":\"/home/deployer/releases/20151028214332/app/services/drive/sheet.rb\",\"lineno\":22,\"method\":\"get_sheet\"},{\"filename\":\"/home/deployer/shared/bundle/ruby/2.1.0/gems/google_drive-1.0.1/lib/google_drive/session.rb\",\"lineno\":202,\"method\":\"spreadsheet_by_url\"},{\"filename\":\"/home/deployer/shared/bundle/ruby/2.1.0/gems/google_drive-1.0.1/lib/google_drive/session.rb\",\"lineno\":156,\"method\":\"file_by_url\"},{\"filename\":\"/home/deployer/shared/bundle/ruby/2.1.0/gems/google_drive-1.0.1/lib/google_drive/session.rb\",\"lineno\":480,\"method\":\"url_to_id\"}],\"exception\":{\"class\":\"GoogleDrive::Error\",\"message\":\"The given URL is not a known Google Drive URL: https://drive.google.com/open?id=0BwNPGDPLBAwaQU9XU3d5WVJPSXM\"}}},\"uuid\":\"4ba06d2b-2497-4daf-9186-d5232f8a0805\",\"request\":{\"params\":{},\"url\":\"http://sheetsu.com/apis/56c5282d\",\"user_ip\":\"38.140.30.202\",\"headers\":{\"Version\":\"HTTP/1.0\",\"X-Forwarded-For\":\"38.140.30.202\",\"Host\":\"sheetsu.com\",\"Connection\":\"close\",\"Accept-Encoding\":\"gzip, deflate\",\"Accept\":\"*/*\",\"User-Agent\":\"python-requests/2.7.0 CPython/2.7.10 Windows/7\"},\"cookies\":{},\"session\":{\"path\":\"/\",\"domain\":null,\"expire_after\":null,\"secure\":false,\"httponly\":true,\"defer\":false,\"renew\":false},\"method\":\"GET\",\"route\":{},\"request_id\":\"ac0a79ba-a97c-4d57-a077-71bcdc00279b\"},\"person\":{}}'"
      ]
     },
     "execution_count": 33,
     "metadata": {},
     "output_type": "execute_result"
    }
   ],
   "source": [
    "my_base_url = 'https://sheetsu.com/apis/56c5282d'\n",
    "my_api_response2 = requests.get(my_base_url)\n",
    "my_api_response2.text"
   ]
  },
  {
   "cell_type": "code",
   "execution_count": 32,
   "metadata": {
    "collapsed": false
   },
   "outputs": [
    {
     "data": {
      "text/plain": [
       "{u'body': {u'trace': {u'exception': {u'class': u'GoogleDrive::Error',\n",
       "    u'message': u'The given URL is not a known Google Drive URL: https://drive.google.com/open?id=0BwNPGDPLBAwaQU9XU3d5WVJPSXM'},\n",
       "   u'frames': [{u'filename': u'/home/deployer/shared/bundle/ruby/2.1.0/bin/unicorn',\n",
       "     u'lineno': 23,\n",
       "     u'method': u'<main>'},\n",
       "    {u'filename': u'/home/deployer/shared/bundle/ruby/2.1.0/bin/unicorn',\n",
       "     u'lineno': 23,\n",
       "     u'method': u'load'},\n",
       "    {u'filename': u'/home/deployer/shared/bundle/ruby/2.1.0/gems/unicorn-4.9.0/bin/unicorn',\n",
       "     u'lineno': 126,\n",
       "     u'method': u'<top (required)>'},\n",
       "    {u'filename': u'/home/deployer/shared/bundle/ruby/2.1.0/gems/unicorn-4.9.0/lib/unicorn/http_server.rb',\n",
       "     u'lineno': 294,\n",
       "     u'method': u'join'},\n",
       "    {u'filename': u'/home/deployer/shared/bundle/ruby/2.1.0/gems/unicorn-4.9.0/lib/unicorn/http_server.rb',\n",
       "     u'lineno': 540,\n",
       "     u'method': u'maintain_worker_count'},\n",
       "    {u'filename': u'/home/deployer/shared/bundle/ruby/2.1.0/gems/unicorn-4.9.0/lib/unicorn/http_server.rb',\n",
       "     u'lineno': 529,\n",
       "     u'method': u'spawn_missing_workers'},\n",
       "    {u'filename': u'/home/deployer/shared/bundle/ruby/2.1.0/gems/unicorn-4.9.0/lib/unicorn/http_server.rb',\n",
       "     u'lineno': 674,\n",
       "     u'method': u'worker_loop'},\n",
       "    {u'filename': u'/home/deployer/shared/bundle/ruby/2.1.0/gems/unicorn-4.9.0/lib/unicorn/http_server.rb',\n",
       "     u'lineno': 580,\n",
       "     u'method': u'process_client'},\n",
       "    {u'filename': u'/home/deployer/shared/bundle/ruby/2.1.0/gems/rack-1.6.4/lib/rack/content_length.rb',\n",
       "     u'lineno': 15,\n",
       "     u'method': u'call'},\n",
       "    {u'filename': u'/home/deployer/shared/bundle/ruby/2.1.0/gems/rack-1.6.4/lib/rack/chunked.rb',\n",
       "     u'lineno': 54,\n",
       "     u'method': u'call'},\n",
       "    {u'filename': u'/home/deployer/shared/bundle/ruby/2.1.0/gems/rack-1.6.4/lib/rack/commonlogger.rb',\n",
       "     u'lineno': 33,\n",
       "     u'method': u'call'},\n",
       "    {u'filename': u'/home/deployer/shared/bundle/ruby/2.1.0/gems/rack-1.6.4/lib/rack/tempfile_reaper.rb',\n",
       "     u'lineno': 15,\n",
       "     u'method': u'call'},\n",
       "    {u'filename': u'/home/deployer/shared/bundle/ruby/2.1.0/gems/railties-4.2.1/lib/rails/application.rb',\n",
       "     u'lineno': 164,\n",
       "     u'method': u'call'},\n",
       "    {u'filename': u'/home/deployer/shared/bundle/ruby/2.1.0/gems/railties-4.2.1/lib/rails/engine.rb',\n",
       "     u'lineno': 518,\n",
       "     u'method': u'call'},\n",
       "    {u'filename': u'/home/deployer/shared/bundle/ruby/2.1.0/gems/rack-cors-0.4.0/lib/rack/cors.rb',\n",
       "     u'lineno': 80,\n",
       "     u'method': u'call'},\n",
       "    {u'filename': u'/home/deployer/shared/bundle/ruby/2.1.0/gems/rack-1.6.4/lib/rack/sendfile.rb',\n",
       "     u'lineno': 113,\n",
       "     u'method': u'call'},\n",
       "    {u'filename': u'/home/deployer/shared/bundle/ruby/2.1.0/gems/activesupport-4.2.1/lib/active_support/cache/strategy/local_cache_middleware.rb',\n",
       "     u'lineno': 28,\n",
       "     u'method': u'call'},\n",
       "    {u'filename': u'/home/deployer/shared/bundle/ruby/2.1.0/gems/rack-1.6.4/lib/rack/runtime.rb',\n",
       "     u'lineno': 18,\n",
       "     u'method': u'call'},\n",
       "    {u'filename': u'/home/deployer/shared/bundle/ruby/2.1.0/gems/rack-1.6.4/lib/rack/methodoverride.rb',\n",
       "     u'lineno': 22,\n",
       "     u'method': u'call'},\n",
       "    {u'filename': u'/home/deployer/shared/bundle/ruby/2.1.0/gems/actionpack-4.2.1/lib/action_dispatch/middleware/request_id.rb',\n",
       "     u'lineno': 21,\n",
       "     u'method': u'call'},\n",
       "    {u'filename': u'/home/deployer/shared/bundle/ruby/2.1.0/gems/railties-4.2.1/lib/rails/rack/logger.rb',\n",
       "     u'lineno': 20,\n",
       "     u'method': u'call'},\n",
       "    {u'filename': u'/home/deployer/shared/bundle/ruby/2.1.0/gems/activesupport-4.2.1/lib/active_support/tagged_logging.rb',\n",
       "     u'lineno': 68,\n",
       "     u'method': u'tagged'},\n",
       "    {u'filename': u'/home/deployer/shared/bundle/ruby/2.1.0/gems/activesupport-4.2.1/lib/active_support/tagged_logging.rb',\n",
       "     u'lineno': 26,\n",
       "     u'method': u'tagged'},\n",
       "    {u'filename': u'/home/deployer/shared/bundle/ruby/2.1.0/gems/activesupport-4.2.1/lib/active_support/tagged_logging.rb',\n",
       "     u'lineno': 68,\n",
       "     u'method': u'block in tagged'},\n",
       "    {u'filename': u'/home/deployer/shared/bundle/ruby/2.1.0/gems/railties-4.2.1/lib/rails/rack/logger.rb',\n",
       "     u'lineno': 20,\n",
       "     u'method': u'block in call'},\n",
       "    {u'filename': u'/home/deployer/shared/bundle/ruby/2.1.0/gems/railties-4.2.1/lib/rails/rack/logger.rb',\n",
       "     u'lineno': 38,\n",
       "     u'method': u'call_app'},\n",
       "    {u'filename': u'/home/deployer/shared/bundle/ruby/2.1.0/gems/actionpack-4.2.1/lib/action_dispatch/middleware/show_exceptions.rb',\n",
       "     u'lineno': 30,\n",
       "     u'method': u'call'},\n",
       "    {u'filename': u'/home/deployer/shared/bundle/ruby/2.1.0/gems/rollbar-2.2.1/lib/rollbar/middleware/rails/show_exceptions.rb',\n",
       "     u'lineno': 22,\n",
       "     u'method': u'call_with_rollbar'},\n",
       "    {u'filename': u'/home/deployer/shared/bundle/ruby/2.1.0/gems/actionpack-4.2.1/lib/action_dispatch/middleware/debug_exceptions.rb',\n",
       "     u'lineno': 17,\n",
       "     u'method': u'call'},\n",
       "    {u'filename': u'/home/deployer/shared/bundle/ruby/2.1.0/gems/rollbar-2.2.1/lib/rollbar/middleware/rails/rollbar.rb',\n",
       "     u'lineno': 22,\n",
       "     u'method': u'call'},\n",
       "    {u'filename': u'/home/deployer/shared/bundle/ruby/2.1.0/gems/rollbar-2.2.1/lib/rollbar.rb',\n",
       "     u'lineno': 837,\n",
       "     u'method': u'scoped'},\n",
       "    {u'filename': u'/home/deployer/shared/bundle/ruby/2.1.0/gems/rollbar-2.2.1/lib/rollbar/middleware/rails/rollbar.rb',\n",
       "     u'lineno': 24,\n",
       "     u'method': u'block in call'},\n",
       "    {u'filename': u'/home/deployer/shared/bundle/ruby/2.1.0/gems/actionpack-4.2.1/lib/action_dispatch/middleware/remote_ip.rb',\n",
       "     u'lineno': 78,\n",
       "     u'method': u'call'},\n",
       "    {u'filename': u'/home/deployer/shared/bundle/ruby/2.1.0/gems/actionpack-4.2.1/lib/action_dispatch/middleware/callbacks.rb',\n",
       "     u'lineno': 27,\n",
       "     u'method': u'call'},\n",
       "    {u'filename': u'/home/deployer/shared/bundle/ruby/2.1.0/gems/activesupport-4.2.1/lib/active_support/callbacks.rb',\n",
       "     u'lineno': 81,\n",
       "     u'method': u'run_callbacks'},\n",
       "    {u'filename': u'/home/deployer/shared/bundle/ruby/2.1.0/gems/activesupport-4.2.1/lib/active_support/callbacks.rb',\n",
       "     u'lineno': 776,\n",
       "     u'method': u'_run_call_callbacks'},\n",
       "    {u'filename': u'/home/deployer/shared/bundle/ruby/2.1.0/gems/activesupport-4.2.1/lib/active_support/callbacks.rb',\n",
       "     u'lineno': 88,\n",
       "     u'method': u'_run_callbacks'},\n",
       "    {u'filename': u'/home/deployer/shared/bundle/ruby/2.1.0/gems/activesupport-4.2.1/lib/active_support/callbacks.rb',\n",
       "     u'lineno': 88,\n",
       "     u'method': u'call'},\n",
       "    {u'filename': u'/home/deployer/shared/bundle/ruby/2.1.0/gems/actionpack-4.2.1/lib/action_dispatch/middleware/callbacks.rb',\n",
       "     u'lineno': 29,\n",
       "     u'method': u'block in call'},\n",
       "    {u'filename': u'/home/deployer/shared/bundle/ruby/2.1.0/gems/activerecord-4.2.1/lib/active_record/connection_adapters/abstract/connection_pool.rb',\n",
       "     u'lineno': 649,\n",
       "     u'method': u'call'},\n",
       "    {u'filename': u'/home/deployer/shared/bundle/ruby/2.1.0/gems/activerecord-4.2.1/lib/active_record/query_cache.rb',\n",
       "     u'lineno': 36,\n",
       "     u'method': u'call'},\n",
       "    {u'filename': u'/home/deployer/shared/bundle/ruby/2.1.0/gems/actionpack-4.2.1/lib/action_dispatch/middleware/cookies.rb',\n",
       "     u'lineno': 560,\n",
       "     u'method': u'call'},\n",
       "    {u'filename': u'/home/deployer/shared/bundle/ruby/2.1.0/gems/rack-1.6.4/lib/rack/session/abstract/id.rb',\n",
       "     u'lineno': 220,\n",
       "     u'method': u'call'},\n",
       "    {u'filename': u'/home/deployer/shared/bundle/ruby/2.1.0/gems/rack-1.6.4/lib/rack/session/abstract/id.rb',\n",
       "     u'lineno': 225,\n",
       "     u'method': u'context'},\n",
       "    {u'filename': u'/home/deployer/shared/bundle/ruby/2.1.0/gems/actionpack-4.2.1/lib/action_dispatch/middleware/flash.rb',\n",
       "     u'lineno': 260,\n",
       "     u'method': u'call'},\n",
       "    {u'filename': u'/home/deployer/shared/bundle/ruby/2.1.0/gems/actionpack-4.2.1/lib/action_dispatch/middleware/params_parser.rb',\n",
       "     u'lineno': 27,\n",
       "     u'method': u'call'},\n",
       "    {u'filename': u'/home/deployer/shared/bundle/ruby/2.1.0/gems/rack-1.6.4/lib/rack/head.rb',\n",
       "     u'lineno': 13,\n",
       "     u'method': u'call'},\n",
       "    {u'filename': u'/home/deployer/shared/bundle/ruby/2.1.0/gems/rack-1.6.4/lib/rack/conditionalget.rb',\n",
       "     u'lineno': 25,\n",
       "     u'method': u'call'},\n",
       "    {u'filename': u'/home/deployer/shared/bundle/ruby/2.1.0/gems/rack-1.6.4/lib/rack/etag.rb',\n",
       "     u'lineno': 24,\n",
       "     u'method': u'call'},\n",
       "    {u'filename': u'/home/deployer/shared/bundle/ruby/2.1.0/gems/warden-1.2.3/lib/warden/manager.rb',\n",
       "     u'lineno': 34,\n",
       "     u'method': u'call'},\n",
       "    {u'filename': u'/home/deployer/shared/bundle/ruby/2.1.0/gems/warden-1.2.3/lib/warden/manager.rb',\n",
       "     u'lineno': 34,\n",
       "     u'method': u'catch'},\n",
       "    {u'filename': u'/home/deployer/shared/bundle/ruby/2.1.0/gems/warden-1.2.3/lib/warden/manager.rb',\n",
       "     u'lineno': 35,\n",
       "     u'method': u'block in call'},\n",
       "    {u'filename': u'/home/deployer/shared/bundle/ruby/2.1.0/gems/rack-defense-0.2.2/lib/rack/defense.rb',\n",
       "     u'lineno': 103,\n",
       "     u'method': u'call'},\n",
       "    {u'filename': u'/home/deployer/shared/bundle/ruby/2.1.0/gems/omniauth-1.2.2/lib/omniauth/strategy.rb',\n",
       "     u'lineno': 164,\n",
       "     u'method': u'call'},\n",
       "    {u'filename': u'/home/deployer/shared/bundle/ruby/2.1.0/gems/omniauth-1.2.2/lib/omniauth/strategy.rb',\n",
       "     u'lineno': 186,\n",
       "     u'method': u'call!'},\n",
       "    {u'filename': u'/home/deployer/shared/bundle/ruby/2.1.0/gems/actionpack-4.2.1/lib/action_dispatch/routing/route_set.rb',\n",
       "     u'lineno': 819,\n",
       "     u'method': u'call'},\n",
       "    {u'filename': u'/home/deployer/shared/bundle/ruby/2.1.0/gems/actionpack-4.2.1/lib/action_dispatch/journey/router.rb',\n",
       "     u'lineno': 30,\n",
       "     u'method': u'serve'},\n",
       "    {u'filename': u'/home/deployer/shared/bundle/ruby/2.1.0/gems/actionpack-4.2.1/lib/action_dispatch/journey/router.rb',\n",
       "     u'lineno': 30,\n",
       "     u'method': u'each'},\n",
       "    {u'filename': u'/home/deployer/shared/bundle/ruby/2.1.0/gems/actionpack-4.2.1/lib/action_dispatch/journey/router.rb',\n",
       "     u'lineno': 43,\n",
       "     u'method': u'block in serve'},\n",
       "    {u'filename': u'/home/deployer/shared/bundle/ruby/2.1.0/gems/actionpack-4.2.1/lib/action_dispatch/routing/mapper.rb',\n",
       "     u'lineno': 51,\n",
       "     u'method': u'serve'},\n",
       "    {u'filename': u'/home/deployer/shared/bundle/ruby/2.1.0/gems/grape-0.13.0/lib/grape/api.rb',\n",
       "     u'lineno': 39,\n",
       "     u'method': u'call'},\n",
       "    {u'filename': u'/home/deployer/shared/bundle/ruby/2.1.0/gems/grape-0.13.0/lib/grape/api.rb',\n",
       "     u'lineno': 44,\n",
       "     u'method': u'call!'},\n",
       "    {u'filename': u'/home/deployer/shared/bundle/ruby/2.1.0/gems/grape-0.13.0/lib/grape/api.rb',\n",
       "     u'lineno': 114,\n",
       "     u'method': u'call'},\n",
       "    {u'filename': u'/home/deployer/shared/bundle/ruby/2.1.0/gems/rack-mount-0.8.3/lib/rack/mount/route_set.rb',\n",
       "     u'lineno': 141,\n",
       "     u'method': u'call'},\n",
       "    {u'filename': u'/home/deployer/shared/bundle/ruby/2.1.0/gems/rack-mount-0.8.3/lib/rack/mount/code_generation.rb',\n",
       "     u'lineno': 95,\n",
       "     u'method': u'recognize'},\n",
       "    {u'filename': u'/home/deployer/shared/bundle/ruby/2.1.0/gems/rack-mount-0.8.3/lib/rack/mount/code_generation.rb',\n",
       "     u'lineno': 103,\n",
       "     u'method': u'optimized_each'},\n",
       "    {u'filename': u'/home/deployer/shared/bundle/ruby/2.1.0/gems/rack-mount-0.8.3/lib/rack/mount/code_generation.rb',\n",
       "     u'lineno': 96,\n",
       "     u'method': u'block in recognize'},\n",
       "    {u'filename': u'/home/deployer/shared/bundle/ruby/2.1.0/gems/rack-mount-0.8.3/lib/rack/mount/route_set.rb',\n",
       "     u'lineno': 152,\n",
       "     u'method': u'block in call'},\n",
       "    {u'filename': u'/home/deployer/shared/bundle/ruby/2.1.0/gems/grape-0.13.0/lib/grape/endpoint.rb',\n",
       "     u'lineno': 190,\n",
       "     u'method': u'call'},\n",
       "    {u'filename': u'/home/deployer/shared/bundle/ruby/2.1.0/gems/grape-0.13.0/lib/grape/endpoint.rb',\n",
       "     u'lineno': 202,\n",
       "     u'method': u'call!'},\n",
       "    {u'filename': u'/home/deployer/shared/bundle/ruby/2.1.0/gems/rollbar-2.2.1/lib/rollbar/middleware/rack/builder.rb',\n",
       "     u'lineno': 14,\n",
       "     u'method': u'call_with_rollbar'},\n",
       "    {u'filename': u'/home/deployer/shared/bundle/ruby/2.1.0/gems/rollbar-2.2.1/lib/rollbar.rb',\n",
       "     u'lineno': 837,\n",
       "     u'method': u'scoped'},\n",
       "    {u'filename': u'/home/deployer/shared/bundle/ruby/2.1.0/gems/rollbar-2.2.1/lib/rollbar/middleware/rack/builder.rb',\n",
       "     u'lineno': 16,\n",
       "     u'method': u'block in call_with_rollbar'},\n",
       "    {u'filename': u'/home/deployer/shared/bundle/ruby/2.1.0/gems/rack-1.6.4/lib/rack/builder.rb',\n",
       "     u'lineno': 153,\n",
       "     u'method': u'call'},\n",
       "    {u'filename': u'/home/deployer/shared/bundle/ruby/2.1.0/gems/rack-1.6.4/lib/rack/head.rb',\n",
       "     u'lineno': 13,\n",
       "     u'method': u'call'},\n",
       "    {u'filename': u'/home/deployer/shared/bundle/ruby/2.1.0/gems/grape-0.13.0/lib/grape/middleware/base.rb',\n",
       "     u'lineno': 18,\n",
       "     u'method': u'call'},\n",
       "    {u'filename': u'/home/deployer/shared/bundle/ruby/2.1.0/gems/grape-0.13.0/lib/grape/middleware/error.rb',\n",
       "     u'lineno': 26,\n",
       "     u'method': u'call!'},\n",
       "    {u'filename': u'/home/deployer/shared/bundle/ruby/2.1.0/gems/grape-0.13.0/lib/grape/middleware/error.rb',\n",
       "     u'lineno': 26,\n",
       "     u'method': u'catch'},\n",
       "    {u'filename': u'/home/deployer/shared/bundle/ruby/2.1.0/gems/grape-0.13.0/lib/grape/middleware/error.rb',\n",
       "     u'lineno': 27,\n",
       "     u'method': u'block in call!'},\n",
       "    {u'filename': u'/home/deployer/shared/bundle/ruby/2.1.0/gems/grape-0.13.0/lib/grape/middleware/base.rb',\n",
       "     u'lineno': 18,\n",
       "     u'method': u'call'},\n",
       "    {u'filename': u'/home/deployer/shared/bundle/ruby/2.1.0/gems/grape-0.13.0/lib/grape/middleware/base.rb',\n",
       "     u'lineno': 24,\n",
       "     u'method': u'call!'},\n",
       "    {u'filename': u'/home/deployer/shared/bundle/ruby/2.1.0/gems/grape-0.13.0/lib/grape/middleware/base.rb',\n",
       "     u'lineno': 24,\n",
       "     u'method': u'call'},\n",
       "    {u'filename': u'/home/deployer/shared/bundle/ruby/2.1.0/gems/grape-0.13.0/lib/grape/endpoint.rb',\n",
       "     u'lineno': 201,\n",
       "     u'method': u'block in call!'},\n",
       "    {u'filename': u'/home/deployer/shared/bundle/ruby/2.1.0/gems/grape-0.13.0/lib/grape/endpoint.rb',\n",
       "     u'lineno': 219,\n",
       "     u'method': u'run'},\n",
       "    {u'filename': u'/home/deployer/shared/bundle/ruby/2.1.0/gems/activesupport-4.2.1/lib/active_support/notifications.rb',\n",
       "     u'lineno': 166,\n",
       "     u'method': u'instrument'},\n",
       "    {u'filename': u'/home/deployer/shared/bundle/ruby/2.1.0/gems/grape-0.13.0/lib/grape/endpoint.rb',\n",
       "     u'lineno': 254,\n",
       "     u'method': u'block in run'},\n",
       "    {u'filename': u'/home/deployer/shared/bundle/ruby/2.1.0/gems/grape-0.13.0/lib/grape/endpoint.rb',\n",
       "     u'lineno': 254,\n",
       "     u'method': u'call'},\n",
       "    {u'filename': u'/home/deployer/shared/bundle/ruby/2.1.0/gems/grape-0.13.0/lib/grape/endpoint.rb',\n",
       "     u'lineno': 50,\n",
       "     u'method': u'block in generate_api_method'},\n",
       "    {u'filename': u'/home/deployer/shared/bundle/ruby/2.1.0/gems/activesupport-4.2.1/lib/active_support/notifications.rb',\n",
       "     u'lineno': 166,\n",
       "     u'method': u'instrument'},\n",
       "    {u'filename': u'/home/deployer/shared/bundle/ruby/2.1.0/gems/grape-0.13.0/lib/grape/endpoint.rb',\n",
       "     u'lineno': 51,\n",
       "     u'method': u'block (2 levels) in generate_api_method'},\n",
       "    {u'filename': u'/home/deployer/shared/bundle/ruby/2.1.0/gems/grape-0.13.0/lib/grape/endpoint.rb',\n",
       "     u'lineno': 51,\n",
       "     u'method': u'call'},\n",
       "    {u'filename': u'/home/deployer/releases/20151028214332/app/controllers/api/base.rb',\n",
       "     u'lineno': 24,\n",
       "     u'method': u'block in <class:Base>'},\n",
       "    {u'filename': u'/home/deployer/releases/20151028214332/app/services/drive/sheet.rb',\n",
       "     u'lineno': 11,\n",
       "     u'method': u'get'},\n",
       "    {u'filename': u'/home/deployer/releases/20151028214332/app/services/drive/sheet.rb',\n",
       "     u'lineno': 22,\n",
       "     u'method': u'get_sheet'},\n",
       "    {u'filename': u'/home/deployer/shared/bundle/ruby/2.1.0/gems/google_drive-1.0.1/lib/google_drive/session.rb',\n",
       "     u'lineno': 202,\n",
       "     u'method': u'spreadsheet_by_url'},\n",
       "    {u'filename': u'/home/deployer/shared/bundle/ruby/2.1.0/gems/google_drive-1.0.1/lib/google_drive/session.rb',\n",
       "     u'lineno': 156,\n",
       "     u'method': u'file_by_url'},\n",
       "    {u'filename': u'/home/deployer/shared/bundle/ruby/2.1.0/gems/google_drive-1.0.1/lib/google_drive/session.rb',\n",
       "     u'lineno': 480,\n",
       "     u'method': u'url_to_id'}]}},\n",
       " u'environment': u'production',\n",
       " u'framework': u'Rails: 4.2.1',\n",
       " u'language': u'ruby',\n",
       " u'level': u'error',\n",
       " u'notifier': {u'name': u'rollbar-gem', u'version': u'2.2.1'},\n",
       " u'person': {},\n",
       " u'request': {u'cookies': {},\n",
       "  u'headers': {u'Accept': u'*/*',\n",
       "   u'Accept-Encoding': u'gzip, deflate',\n",
       "   u'Connection': u'close',\n",
       "   u'Host': u'sheetsu.com',\n",
       "   u'User-Agent': u'python-requests/2.7.0 CPython/2.7.10 Windows/7',\n",
       "   u'Version': u'HTTP/1.0',\n",
       "   u'X-Forwarded-For': u'38.140.30.202'},\n",
       "  u'method': u'GET',\n",
       "  u'params': {},\n",
       "  u'request_id': u'b2f905dc-be7b-4bc3-9521-b3ebb2486b1d',\n",
       "  u'route': {},\n",
       "  u'session': {u'defer': False,\n",
       "   u'domain': None,\n",
       "   u'expire_after': None,\n",
       "   u'httponly': True,\n",
       "   u'path': u'/',\n",
       "   u'renew': False,\n",
       "   u'secure': False},\n",
       "  u'url': u'http://sheetsu.com/apis/56c5282d',\n",
       "  u'user_ip': u'38.140.30.202'},\n",
       " u'server': {u'host': u'sheetsu',\n",
       "  u'pid': 31643,\n",
       "  u'root': u'/home/deployer/releases/20151028214332'},\n",
       " u'timestamp': 1446786332,\n",
       " u'uuid': u'd585ec7b-ef6c-4654-aa0b-94e8e2e0b6e6'}"
      ]
     },
     "execution_count": 32,
     "metadata": {},
     "output_type": "execute_result"
    }
   ],
   "source": [
    "my_reponse_dict"
   ]
  },
  {
   "cell_type": "markdown",
   "metadata": {},
   "source": [
    "## Kimono Labs\n",
    "\n"
   ]
  },
  {
   "cell_type": "markdown",
   "metadata": {},
   "source": [
    "Web scraping with the Kimono Labs API\n",
    "\n",
    "https://www.kimonolabs.com/\n",
    "\n",
    "Kimono labs has undergone a bit of a redesign in recent months and now encourages crawling for all the data you'd want ahead of time and extracting the batch in a series of calls. To create an api, follow the kimono labs walkthrough. To generate a large amount of data like we will here, a series of screenshot walkthroughs have been added.\n",
    "\n",
    "After creating an API from an advanced search query as walked through in class, navigate to the Crawl Setup tab from the API management page in kimono."
   ]
  },
  {
   "cell_type": "code",
   "execution_count": 34,
   "metadata": {
    "collapsed": false
   },
   "outputs": [
    {
     "data": {
      "image/png": "[encoded data removed]",
      "text/plain": [
       "<IPython.core.display.Image object>"
      ]
     },
     "execution_count": 34,
     "metadata": {},
     "output_type": "execute_result"
    }
   ],
   "source": [
    "from IPython.display import Image\n",
    "Image(filename='KL_Crawl_Setup.png') "
   ]
  },
  {
   "cell_type": "markdown",
   "metadata": {},
   "source": [
    "Change the crawl strategy to Generated URL List"
   ]
  },
  {
   "cell_type": "code",
   "execution_count": null,
   "metadata": {
    "collapsed": false
   },
   "outputs": [],
   "source": [
    "from IPython.display import Image\n",
    "Image(filename='KL_Generated_URL_List.png') "
   ]
  },
  {
   "cell_type": "markdown",
   "metadata": {},
   "source": [
    "From here you can automatically generate a list of pages to extract data from, with the caveat that the pages you are navigating all have roughly the same structure. Here we are going to look for the top boxoffice_gross_us from 1990 to 2014. "
   ]
  },
  {
   "cell_type": "code",
   "execution_count": null,
   "metadata": {
    "collapsed": false
   },
   "outputs": [],
   "source": [
    "from IPython.display import Image\n",
    "Image(filename='KL_Parameter_range.png') "
   ]
  },
  {
   "cell_type": "code",
   "execution_count": null,
   "metadata": {
    "collapsed": false
   },
   "outputs": [],
   "source": [
    "#After you let the data crawl the page, you can update the data here.\n",
    "\n",
    "import json\n",
    "import urllib\n",
    "\n",
    "results = json.load(urllib.urlopen(\"https://www.kimonolabs.com/api/eb81bu78?apikey=4WrTjTsFDGmHCLnYrAXeSLIjJYcfrG7j\"))\n",
    "results"
   ]
  },
  {
   "cell_type": "code",
   "execution_count": null,
   "metadata": {
    "collapsed": false
   },
   "outputs": [],
   "source": [
    "your_key = \"4WrTjTsFDGmHCLnYrAXeSLIjJYcfrG7j\"\n",
    "your_endpoint = \"eb81bu78\"\n",
    "import json\n",
    "import urllib\n",
    "import pandas as pd\n",
    "\n",
    "def getMovies(api_key=your_key,endpoint=your_endpoint):\n",
    "    \"\"\"\n",
    "    Creates list of top 50 movies by gross box office\n",
    "    sales for a with ratings and sales\n",
    "    \"\"\"\n",
    "    \n",
    "    movies, ratings, sales, years = [], [], [], []\n",
    "    #Remember to replace this link with the link to your specifc API\n",
    "    url = \"https://www.kimonolabs.com/api/{}?\".format(endpoint) + \\\n",
    "            \"apikey={}\".format(api_key)\n",
    "    data = json.load(urllib.urlopen(url))\n",
    "    \n",
    "    # Iterate through json object to collect data\n",
    "    for n in xrange(data['count']):\n",
    "        n_title = data['results']['collection1'][n]['title']['text']\n",
    "        n_rating = float(data['results']['collection1'][n]['rating'])\n",
    "        n_sales = float(data['results']['collection1'][n]['sales'][1:-1])\n",
    "        n_year = int(data['results']['collection1'][n]['url'][-4:])\n",
    "        movies.append(n_title)\n",
    "        ratings.append(n_rating)\n",
    "        sales.append(n_sales)\n",
    "        years.append(n_year)\n",
    "    data = pd.DataFrame({'movie':movies,'rating':ratings,'sales_in_M':sales,'year':years})\n",
    "    \n",
    "    return data\n",
    "movies = getMovies()\n",
    "movies.head()"
   ]
  },
  {
   "cell_type": "markdown",
   "metadata": {},
   "source": [
    "Note a few things: The function we wrote relies on extracting pieces of a string and converting them to numeric types. Here, the year can be extracted from the url used to generate the movies, so we use the slice `[-4:]` to identify that. Similarly, the gross cost comes out as $##M, so we know we never want the first or last value. Thus the slice `[1:-1]` is correct."
   ]
  },
  {
   "cell_type": "markdown",
   "metadata": {},
   "source": [
    "###Exercise 2.1\n",
    "Build your own api via kimono at https://www.kimonolabs.com/. Create the api we created in class to call the data.\n",
    "\n",
    "What were the average sales in 1995?\n",
    "What was the average rating?"
   ]
  },
  {
   "cell_type": "code",
   "execution_count": null,
   "metadata": {
    "collapsed": false
   },
   "outputs": [],
   "source": []
  },
  {
   "cell_type": "markdown",
   "metadata": {},
   "source": [
    "###Bonus\n",
    "What were the average sales for the 90s? How does that differ from the 2000s?"
   ]
  },
  {
   "cell_type": "code",
   "execution_count": null,
   "metadata": {
    "collapsed": false
   },
   "outputs": [],
   "source": []
  }
 ],
 "metadata": {
  "kernelspec": {
   "display_name": "Python 2",
   "language": "python",
   "name": "python2"
  },
  "language_info": {
   "codemirror_mode": {
    "name": "ipython",
    "version": 2
   },
   "file_extension": ".py",
   "mimetype": "text/x-python",
   "name": "python",
   "nbconvert_exporter": "python",
   "pygments_lexer": "ipython2",
   "version": "2.7.10"
  }
 },
 "nbformat": 4,
 "nbformat_minor": 0
}
